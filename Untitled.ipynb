{
 "cells": [
  {
   "cell_type": "code",
   "execution_count": 2,
   "id": "6c27988a-60dc-45fa-a8b6-c0e2795cf400",
   "metadata": {},
   "outputs": [
    {
     "name": "stderr",
     "output_type": "stream",
     "text": [
      "24/25 EPL player links: 100%|██████████████████████████████████████████████████████████| 20/20 [02:26<00:00,  7.34s/it]\n",
      "24/25 EPL players:   0%|                                                             | 1/773 [00:10<2:15:16, 10.51s/it]\n"
     ]
    },
    {
     "ename": "AttributeError",
     "evalue": "'NoneType' object has no attribute 'text'",
     "output_type": "error",
     "traceback": [
      "\u001b[31m---------------------------------------------------------------------------\u001b[39m",
      "\u001b[31mAttributeError\u001b[39m                            Traceback (most recent call last)",
      "\u001b[36mCell\u001b[39m\u001b[36m \u001b[39m\u001b[32mIn[2]\u001b[39m\u001b[32m, line 4\u001b[39m\n\u001b[32m      1\u001b[39m \u001b[38;5;28;01mimport\u001b[39;00m\u001b[38;5;250m \u001b[39m\u001b[34;01mScraperFC\u001b[39;00m\u001b[38;5;250m \u001b[39m\u001b[38;5;28;01mas\u001b[39;00m\u001b[38;5;250m \u001b[39m\u001b[34;01msfc\u001b[39;00m\n\u001b[32m      3\u001b[39m tm = sfc.Transfermarkt()\n\u001b[32m----> \u001b[39m\u001b[32m4\u001b[39m players = \u001b[43mtm\u001b[49m\u001b[43m.\u001b[49m\u001b[43mscrape_players\u001b[49m\u001b[43m(\u001b[49m\u001b[33;43m\"\u001b[39;49m\u001b[33;43m24/25\u001b[39;49m\u001b[33;43m\"\u001b[39;49m\u001b[43m,\u001b[49m\u001b[43m \u001b[49m\u001b[33;43m\"\u001b[39;49m\u001b[33;43mEPL\u001b[39;49m\u001b[33;43m\"\u001b[39;49m\u001b[43m)\u001b[49m\n",
      "\u001b[36mFile \u001b[39m\u001b[32m~\\AppData\\Local\\Programs\\Python\\Python313\\Lib\\site-packages\\ScraperFC\\transfermarkt.py:194\u001b[39m, in \u001b[36mTransfermarkt.scrape_players\u001b[39m\u001b[34m(self, year, league)\u001b[39m\n\u001b[32m    192\u001b[39m df = pd.DataFrame()\n\u001b[32m    193\u001b[39m \u001b[38;5;28;01mfor\u001b[39;00m player_link \u001b[38;5;129;01min\u001b[39;00m tqdm(player_links, desc=\u001b[33mf\u001b[39m\u001b[33m\"\u001b[39m\u001b[38;5;132;01m{\u001b[39;00myear\u001b[38;5;132;01m}\u001b[39;00m\u001b[33m \u001b[39m\u001b[38;5;132;01m{\u001b[39;00mleague\u001b[38;5;132;01m}\u001b[39;00m\u001b[33m players\u001b[39m\u001b[33m\"\u001b[39m):\n\u001b[32m--> \u001b[39m\u001b[32m194\u001b[39m     player = \u001b[38;5;28;43mself\u001b[39;49m\u001b[43m.\u001b[49m\u001b[43mscrape_player\u001b[49m\u001b[43m(\u001b[49m\u001b[43mplayer_link\u001b[49m\u001b[43m)\u001b[49m\n\u001b[32m    195\u001b[39m     df = pd.concat([df, player], axis=\u001b[32m0\u001b[39m, ignore_index=\u001b[38;5;28;01mTrue\u001b[39;00m)\n\u001b[32m    197\u001b[39m \u001b[38;5;28;01mreturn\u001b[39;00m df\n",
      "\u001b[36mFile \u001b[39m\u001b[32m~\\AppData\\Local\\Programs\\Python\\Python313\\Lib\\site-packages\\ScraperFC\\transfermarkt.py:224\u001b[39m, in \u001b[36mTransfermarkt.scrape_player\u001b[39m\u001b[34m(self, player_link)\u001b[39m\n\u001b[32m    222\u001b[39m \u001b[38;5;66;03m# Name\u001b[39;00m\n\u001b[32m    223\u001b[39m name_tag = soup.find(\u001b[33m\"\u001b[39m\u001b[33mh1\u001b[39m\u001b[33m\"\u001b[39m, {\u001b[33m\"\u001b[39m\u001b[33mclass\u001b[39m\u001b[33m\"\u001b[39m: \u001b[33m\"\u001b[39m\u001b[33mdata-header__headline-wrapper\u001b[39m\u001b[33m\"\u001b[39m})\n\u001b[32m--> \u001b[39m\u001b[32m224\u001b[39m name = \u001b[43mname_tag\u001b[49m\u001b[43m.\u001b[49m\u001b[43mtext\u001b[49m.split(\u001b[33m\"\u001b[39m\u001b[38;5;130;01m\\n\u001b[39;00m\u001b[33m\"\u001b[39m)[-\u001b[32m1\u001b[39m].strip()  \u001b[38;5;66;03m# type: ignore\u001b[39;00m\n\u001b[32m    226\u001b[39m \u001b[38;5;66;03m# Value\u001b[39;00m\n\u001b[32m    227\u001b[39m \u001b[38;5;28;01mtry\u001b[39;00m:\n",
      "\u001b[31mAttributeError\u001b[39m: 'NoneType' object has no attribute 'text'"
     ]
    }
   ],
   "source": [
    "import ScraperFC as sfc\n",
    "\n",
    "tm = sfc.Transfermarkt()\n",
    "players = tm.scrape_players(\"24/25\", \"EPL\")"
   ]
  },
  {
   "cell_type": "code",
   "execution_count": null,
   "id": "6c0fc351-f898-4b1b-9702-53b37e972a47",
   "metadata": {},
   "outputs": [],
   "source": []
  }
 ],
 "metadata": {
  "kernelspec": {
   "display_name": "Python 3 (ipykernel)",
   "language": "python",
   "name": "python3"
  },
  "language_info": {
   "codemirror_mode": {
    "name": "ipython",
    "version": 3
   },
   "file_extension": ".py",
   "mimetype": "text/x-python",
   "name": "python",
   "nbconvert_exporter": "python",
   "pygments_lexer": "ipython3",
   "version": "3.13.5"
  }
 },
 "nbformat": 4,
 "nbformat_minor": 5
}
